{
 "cells": [
  {
   "cell_type": "code",
   "execution_count": 1,
   "metadata": {},
   "outputs": [],
   "source": [
    "import sqlite3 as lite\n",
    "connection = lite.connect(r'/Users/Danik/Desktop/KCL/YEAR_3/PRJ/Crawls/crawl-data.sqlite')\n",
    "cursor = connection.cursor()"
   ]
  },
  {
   "cell_type": "code",
   "execution_count": 5,
   "metadata": {},
   "outputs": [],
   "source": [
    "# url = \"https://www.independent.co.uk/news/health/coronavirus-news-live-update-uk-cases-deaths-today-latest-covid-19-nhs-a9473491.html\"\n",
    "cursor.execute(\"select javascript_cookies.host, site_visits.site_url from javascript_cookies join site_visits on javascript_cookies.visit_id=site_visits.visit_id where site_visits.visit_id=25\")\n",
    "third_party = []\n",
    "for host in cursor.fetchall():\n",
    "    host = host[0]\n",
    "    elements = host.split('.')\n",
    "    if 'www' in elements: elements.remove('www')\n",
    "    if '' in elements: elements.remove('')\n",
    "    new_host = '.'.join(elements[0:])\n",
    "    new_url = url.split('/')[2]\n",
    "    if new_host not in new_url:\n",
    "        third_party.append(new_host)"
   ]
  },
  {
   "cell_type": "code",
   "execution_count": 7,
   "metadata": {},
   "outputs": [
    {
     "data": {
      "text/plain": [
       "272"
      ]
     },
     "execution_count": 7,
     "metadata": {},
     "output_type": "execute_result"
    }
   ],
   "source": [
    "len(third_party)\n",
    "len(set(third_party))"
   ]
  },
  {
   "cell_type": "code",
   "execution_count": null,
   "metadata": {},
   "outputs": [],
   "source": []
  }
 ],
 "metadata": {
  "kernelspec": {
   "display_name": "Python 3",
   "language": "python",
   "name": "python3"
  },
  "language_info": {
   "codemirror_mode": {
    "name": "ipython",
    "version": 3
   },
   "file_extension": ".py",
   "mimetype": "text/x-python",
   "name": "python",
   "nbconvert_exporter": "python",
   "pygments_lexer": "ipython3",
   "version": "3.7.3"
  }
 },
 "nbformat": 4,
 "nbformat_minor": 4
}
