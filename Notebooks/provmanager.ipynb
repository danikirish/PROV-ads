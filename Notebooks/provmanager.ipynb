{
 "cells": [
  {
   "cell_type": "code",
   "execution_count": 3,
   "metadata": {},
   "outputs": [],
   "source": [
    "from prov.model import *\n",
    "import prov.model as prov\n",
    "from http import cookies\n",
    "import sqlite3 as lite\n",
    "from os import path\n",
    "import seaborn as sns\n",
    "import matplotlib.pyplot as plt\n",
    "from prov.dot import prov_to_dot\n",
    "from IPython.display import Image\n",
    "\n",
    "class ProvManager():\n",
    "    def __init__(self, output_fp=path.join(os.getcwd(), \"results/\"), db_fp=\"/Users/Danik/Desktop/KCL/YEAR_3/PRJ/Crawls/crawl-data.sqlite\"):\n",
    "        self.db_fp = db_fp\n",
    "        self.output_fp = output_fp\n",
    "        self.documents = {}\n",
    "        self.all_tp_hosts = {1: [],\n",
    "                           2: [],\n",
    "                           3: [],\n",
    "                           4: []}\n",
    "        self.cur = None\n",
    "        if not path.exists(self.output_fp):\n",
    "            os.mkdir(self.output_fp)\n",
    "            \n",
    "#     if __main__ == \"main\":\n",
    "#         main()\n",
    "        \n",
    "    def main(self):\n",
    "        self.db_connect()\n",
    "        self.create_prov()\n",
    "        self.record_prov()\n",
    "        self.write_prov()\n",
    "        self.all_cookie_stats()\n",
    "    \n",
    "    def db_connect(self):\n",
    "        connection = lite.connect(self.db_fp)\n",
    "        self.cur = connection.cursor()\n",
    "    \n",
    "    def create_prov(self):\n",
    "        for visit_id in self.cur.execute(\"select visit_id from site_visits\"):\n",
    "            document = ProvDocument()\n",
    "            document.set_default_namespace('http://danik.com')\n",
    "            self.documents[visit_id[0]] = document\n",
    "#         return document\n",
    "    \n",
    "    def retrieve_tp_hosts(self,visit_id, site_url):\n",
    "        hosts = []\n",
    "        for h in self.cur.execute(\"select host from javascript_cookies where visit_id=?\", str(visit_id)):\n",
    "            split = h[0].split('.')\n",
    "            if 'www' in split: split.remove('www')\n",
    "            host = split[1]\n",
    "            for el in split[2:]:\n",
    "                host += \".\" + el\n",
    "            if site_url.find(host) == -1:\n",
    "                hosts.append(h[0])\n",
    "        return hosts\n",
    "    \n",
    "    def record_prov(self):        \n",
    "        for visit, doc in self.documents.items():\n",
    "            tp_hosts = []\n",
    "            doc.agent('OpenWPM', {'prov:type': 'prov:SoftwareAgent'})\n",
    "            doc.agent('user')\n",
    "            doc.activity('performCrawl')\n",
    "            doc.entity('visit%d'%visit)\n",
    "            self.cur.execute(\"select site_url from site_visits where visit_id=?\",str(visit))\n",
    "            site_url = self.cur.fetchone()[0][7:]\n",
    "            doc.entity(site_url)\n",
    "            doc.entity('syncing_algorithm')\n",
    "            doc.agent('tracker1')\n",
    "            doc.agent('tracker2')\n",
    "            doc.activity('syncCookies')\n",
    "            doc.activity('collectData')\n",
    "\n",
    "            tp_cookies = doc.collection('cookies%d'%visit)\n",
    "        #     tp_cookies.set_default_namespace('http://danik.com/bundles')\n",
    "#             sync_algorithm = doc.bundle('syncing_algorithm')\n",
    "        #     sync_algorithm.set_default_namespace('http://danik.com/syncing')\n",
    "\n",
    "\n",
    "            doc.actedOnBehalfOf('OpenWPM', 'user')\n",
    "            doc.wasAssociatedWith('performCrawl', 'OpenWPM')\n",
    "            doc.wasGeneratedBy('visit%d'%visit, 'performCrawl')\n",
    "            doc.wasDerivedFrom('visit%d'%visit, site_url, 'performCrawl')\n",
    "            doc.wasAttributedTo(site_url, 'tracker1')\n",
    "            doc.wasAssociatedWith('collectData', 'tracker1')\n",
    "            doc.wasGeneratedBy('cookies%d'%visit, 'collectData')\n",
    "            doc.actedOnBehalfOf('tracker2', 'tracker1', 'syncCookies')\n",
    "            doc.used('syncCookies', 'cookies%d'%visit)\n",
    "            doc.used('syncCookies', 'syncing_algorithm')\n",
    "            doc.used('performCrawl', site_url)\n",
    "            doc.used('collectData', site_url)\n",
    "\n",
    "#             for h in cur.execute(\"select host from javascript_cookies where visit_id=?\", str(visit)):\n",
    "#                 split = h[0].split('.')\n",
    "#                 if 'www' in split: split.remove('www')\n",
    "#                 host = split[1]\n",
    "#                 for el in split[2:]:\n",
    "#                     host += \".\" + el\n",
    "#                 if site_url.find(host) == -1:\n",
    "#                     tp_hosts.append(h[0])\n",
    "            tp_hosts = self.retrieve_tp_hosts(visit, site_url)\n",
    "#             print(tp_hosts)\n",
    "        #         hosts.append(host)\n",
    "        #         if host in trackers:\n",
    "        #             hosts.append(host)\n",
    "            for tp in tp_hosts:\n",
    "                e = doc.entity(tp)\n",
    "                doc.hadMember(tp_cookies, e)\n",
    "            self.all_tp_hosts[visit] = tp_hosts\n",
    "        print(\"finished record:\")\n",
    "        print(self.all_tp_hosts[2])\n",
    "            \n",
    "    def write_prov(self):\n",
    "        for visit, document in self.documents.items():\n",
    "            dot = prov_to_dot(document)\n",
    "            dot.write_png(path.join(self.output_fp,'visit%d.png' %visit))\n",
    "#             file = open(path.join(self.output_fp,'visit%d.png' %visit), 'w+')\n",
    "#             file.write(dot)\n",
    "#             file.close()\n",
    "            print(\"writing\")\n",
    "#             dot.write_png('visit%d.png' %visit)\n",
    "\n",
    "    def cookie_stats(self, visit_id, site_url = \"\"):\n",
    "        tp_cookies = self.all_tp_hosts[visit_id]\n",
    "        self.cur.execute(\"select count(id) from javascript_cookies where visit_id=?\", str(visit_id))\n",
    "        cookies_num = self.cur.fetchone()[0]\n",
    "        print(\"This visit resulted in %d cookies being recorded on your browser.\" % cookies_num)\n",
    "        if len(tp_cookies) == 0:\n",
    "            print(\"None of which are 3rd party\")\n",
    "        else:\n",
    "            print(\"Of which %d are 3rd party.\"%len(tp_cookies))\n",
    "            print(\"List of 3rd party trackers: \")\n",
    "            print(set(tp_cookies))\n",
    "            self.cookie_pie(cookies_num, len(tp_cookies), site_url)\n",
    "            \n",
    "    def all_cookie_stats(self,):\n",
    "        for vid, cs in self.all_tp_hosts.items():\n",
    "            self.cur.execute(\"select site_url from site_visits where visit_id=?\",str(vid)) #TODO: Refactor this\n",
    "            site_url = self.cur.fetchone()[0][7:]\n",
    "            print(\"\\nVisit %d to %s\" % (vid, site_url), end='')\n",
    "            self.cookie_stats(vid, site_url = site_url)\n",
    "            \n",
    "    def cookie_pie(self, num_total, num_tp, site_url=\"\"):\n",
    "        color_palette_list = ['#009ACD', '#ADD8E6', '#63D1F4', '#0EBFE9', \n",
    "                              '#C1F0F6', '#0099CC']\n",
    "        labels = ['1st Party', '3rd Party']\n",
    "        plt.rcParams['font.sans-serif'] = 'Arial'\n",
    "        plt.rcParams['font.family'] = 'sans-serif'\n",
    "        plt.rcParams['text.color'] = '#e8001b'\n",
    "        plt.rcParams['axes.labelcolor']= '#e8001b'\n",
    "        plt.rcParams['xtick.color'] = '#e8001b'\n",
    "        plt.rcParams['ytick.color'] = '#e8001b'\n",
    "        plt.rcParams['font.size']=12\n",
    "        values = [num_total -num_tp, num_tp]\n",
    "        explode = (0.1, 0)\n",
    "\n",
    "        fig, ax = plt.subplots()\n",
    "        ax.pie(values, labels=labels, explode=explode, colors=color_palette_list[0:2], autopct='%1.0f%%', shadow=False, startangle=90, pctdistance=0.8, labeldistance=1.1)\n",
    "        ax.axis('equal')\n",
    "        ax.set_title('Proportion of 3rd party cookies from %s\\nTotal number of cookies: %d' %(site_url, num_total))\n",
    "        ax.legend(frameon=False, bbox_to_anchor=(1.5, 0.8))"
   ]
  },
  {
   "cell_type": "code",
   "execution_count": 3,
   "metadata": {},
   "outputs": [
    {
     "data": {
      "text/plain": [
       "'12:40'"
      ]
     },
     "execution_count": 3,
     "metadata": {},
     "output_type": "execute_result"
    }
   ],
   "source": [
    "string = \"12:40:53\"\n",
    "string[:-3:]"
   ]
  },
  {
   "cell_type": "code",
   "execution_count": 10,
   "metadata": {},
   "outputs": [
    {
     "name": "stderr",
     "output_type": "stream",
     "text": [
      "/Users/Danik/anaconda3/lib/python3.7/site-packages/ipykernel_launcher.py:13: MatplotlibDeprecationWarning: Adding an axes using the same arguments as a previous axes currently reuses the earlier instance.  In a future version, a new instance will always be created and returned.  Meanwhile, this warning can be suppressed, and the future behavior ensured, by passing a unique label to each axes instance.\n",
      "  del sys.path[0]\n"
     ]
    },
    {
     "data": {
      "text/plain": [
       "Text(0.5, 1.0, 'Easy as 1, 2, 3')"
      ]
     },
     "execution_count": 10,
     "metadata": {},
     "output_type": "execute_result"
    },
    {
     "data": {
      "image/png": "[encoded data removed]",
      "text/plain": [
       "<Figure size 432x288 with 2 Axes>"
      ]
     },
     "metadata": {
      "needs_background": "light"
     },
     "output_type": "display_data"
    },
    {
     "data": {
      "image/png": "[encoded data removed]",
      "text/plain": [
       "<Figure size 432x288 with 1 Axes>"
      ]
     },
     "metadata": {
      "needs_background": "light"
     },
     "output_type": "display_data"
    }
   ],
   "source": [
    "import matplotlib.pyplot as plt\n",
    "plt.figure(1)                # the first figure\n",
    "plt.subplot(211)             # the first subplot in the first figure\n",
    "plt.plot([1, 2, 3])\n",
    "plt.subplot(212)             # the second subplot in the first figure\n",
    "plt.plot([4, 5, 6])\n",
    "\n",
    "\n",
    "plt.figure(2)                # a second figure\n",
    "plt.plot([4, 5, 6])          # creates a subplot(111) by default\n",
    "\n",
    "plt.figure(1)                # figure 1 current; subplot(212) still current\n",
    "plt.subplot(211)             # make subplot(211) in figure1 current\n",
    "plt.title('Easy as 1, 2, 3') # subplot 211 title\n"
   ]
  },
  {
   "cell_type": "code",
   "execution_count": 4,
   "metadata": {},
   "outputs": [],
   "source": [
    "doc = ProvDocument()\n",
    "doc.set_default_namespace('http://danik.com')"
   ]
  },
  {
   "cell_type": "code",
   "execution_count": 7,
   "metadata": {},
   "outputs": [
    {
     "data": {
      "text/plain": [
       "<ProvUsage: (collectData, kcl.ac.uk)>"
      ]
     },
     "execution_count": 7,
     "metadata": {},
     "output_type": "execute_result"
    }
   ],
   "source": [
    "doc.agent('OpenWPM', {'prov:type': 'prov:SoftwareAgent'})\n",
    "doc.agent('user')\n",
    "doc.activity('performCrawl')\n",
    "doc.entity('visit2')\n",
    "doc.entity('kcl.ac.uk')\n",
    "doc.entity('syncing_algorithm')\n",
    "doc.agent('tracker1')\n",
    "doc.agent('tracker2')\n",
    "doc.activity('syncCookies')\n",
    "doc.activity('collectData')\n",
    "doc.actedOnBehalfOf('OpenWPM', 'user')\n",
    "doc.wasAssociatedWith('performCrawl', 'OpenWPM')\n",
    "doc.wasGeneratedBy('visit2', 'performCrawl')\n",
    "doc.wasDerivedFrom('visit2', 'kcl.ac.uk', 'performCrawl')\n",
    "doc.wasAttributedTo('kcl.ac.uk', 'tracker1')\n",
    "doc.wasAssociatedWith('collectData', 'tracker1')\n",
    "doc.wasGeneratedBy('cookies2', 'collectData')\n",
    "doc.actedOnBehalfOf('tracker2', 'tracker1', 'syncCookies')\n",
    "doc.used('syncCookies', 'cookies2')\n",
    "doc.used('syncCookies', 'syncing_algorithm')\n",
    "doc.used('performCrawl', 'kcl.ac.uk')\n",
    "doc.used('collectData', 'kcl.ac.uk')"
   ]
  },
  {
   "cell_type": "code",
   "execution_count": 10,
   "metadata": {},
   "outputs": [],
   "source": [
    "doc.serialize('testdoc.json', indent=2)"
   ]
  },
  {
   "cell_type": "code",
   "execution_count": 46,
   "metadata": {},
   "outputs": [],
   "source": [
    "json_2 = doc.serialize(indent=2)\n",
    "json_4 = doc.serialize(indent=4)"
   ]
  },
  {
   "cell_type": "code",
   "execution_count": 36,
   "metadata": {},
   "outputs": [],
   "source": [
    "import json\n"
   ]
  },
  {
   "cell_type": "code",
   "execution_count": 38,
   "metadata": {},
   "outputs": [],
   "source": [
    "pyjs = json.loads(js)"
   ]
  },
  {
   "cell_type": "code",
   "execution_count": 51,
   "metadata": {},
   "outputs": [],
   "source": [
    "con = lite.connect(\"/Users/Danik/Desktop/KCL/YEAR_3/PRJ/Crawls/crawl-data.sqlite\")\n",
    "cur = con.cursor()"
   ]
  },
  {
   "cell_type": "code",
   "execution_count": 63,
   "metadata": {},
   "outputs": [
    {
     "name": "stdout",
     "output_type": "stream",
     "text": [
      "1\n",
      "1\n",
      "2\n",
      "1\n",
      "3\n",
      "1\n",
      "4\n",
      "1\n",
      "5\n",
      "1\n",
      "6\n",
      "1\n",
      "7\n",
      "1\n",
      "8\n",
      "1\n",
      "9\n",
      "1\n",
      "10\n",
      "1\n",
      "11\n",
      "1\n",
      "12\n",
      "1\n"
     ]
    }
   ],
   "source": [
    "for crawl in cur.execute(\"select crawl_id from crawl\"):\n",
    "    print(crawl[0])\n",
    "    cursor2 = lite.connect(\"/Users/Danik/Desktop/KCL/YEAR_3/PRJ/Crawls/crawl-data.sqlite\").cursor()\n",
    "    cursor2.execute(\"select crawl_id from crawl where task_id=1\")\n",
    "    print(cursor2.fetchone()[0])"
   ]
  },
  {
   "cell_type": "code",
   "execution_count": 71,
   "metadata": {},
   "outputs": [],
   "source": [
    "crawl_fp = os.path.join(\"/Users/Danik/Desktop/KCL/YEAR_3/PRJ/\", \"Crawls\", \"Results\", \"crawl%d\"%2)"
   ]
  },
  {
   "cell_type": "code",
   "execution_count": 73,
   "metadata": {},
   "outputs": [
    {
     "data": {
      "text/plain": [
       "True"
      ]
     },
     "execution_count": 73,
     "metadata": {},
     "output_type": "execute_result"
    }
   ],
   "source": [
    "os.path.isdir(crawl_fp)"
   ]
  },
  {
   "cell_type": "code",
   "execution_count": 330,
   "metadata": {},
   "outputs": [
    {
     "name": "stdout",
     "output_type": "stream",
     "text": [
      "{1: {1: None, 2: None, 3: None}, 2: {4: None, 5: None}, 3: {6: None, 7: None}, 4: {8: None, 9: None}, 5: {10: None}, 6: {11: None, 12: None}, 7: {13: None, 14: None}, 8: {15: None, 16: None}, 9: {17: None}, 10: {18: None}, 11: {19: None}, 12: {20: None}, 13: {21: None}}\n"
     ]
    }
   ],
   "source": [
    "crawls = [1,2,3,4,5,6,7,8,9,10,11,12,13]\n",
    "# visits = {cr:{} for cr in crawls}\n",
    "print(visits)"
   ]
  },
  {
   "cell_type": "code",
   "execution_count": 317,
   "metadata": {},
   "outputs": [
    {
     "name": "stdout",
     "output_type": "stream",
     "text": [
      "{1: {1: None, 2: None, 3: None}, 2: {4: None, 5: None}, 3: {6: None, 7: None}, 4: {8: None, 9: None}, 5: {10: None}, 6: {11: None, 12: None}, 7: {13: None, 14: None}, 8: {15: None, 16: None}, 9: {17: None}, 10: {18: None}, 11: {19: None}, 12: {20: None}, 13: {1: None, 2: None, 3: None, 4: None, 5: None, 6: None, 7: None, 8: None, 9: None, 10: None, 11: None, 12: None, 13: None, 14: None, 15: None, 16: None, 17: None, 18: None, 19: None, 20: None, 21: None}}\n"
     ]
    }
   ],
   "source": [
    "for crawl in crawls:\n",
    "#     print(crawl)\n",
    "    for sv in cur.execute(\"select visit_id from site_visits where crawl_id=?\",[str(crawl)]):\n",
    "    #     print(cid, visits[cid])\n",
    "    #     print(cid)\n",
    "#         print(sv[0])\n",
    "        visits[crawl][sv[0]] = None\n",
    "print(visits)"
   ]
  },
  {
   "cell_type": "code",
   "execution_count": 331,
   "metadata": {},
   "outputs": [
    {
     "name": "stdout",
     "output_type": "stream",
     "text": [
      "{1: {1: None, 2: None, 3: None}, 2: {4: None, 5: None}, 3: {6: None, 7: None}, 4: {8: None, 9: None}, 5: {10: None}, 6: {11: None, 12: None}, 7: {13: None, 14: None}, 8: {15: None, 16: None}, 9: {17: None}, 10: {18: None}, 11: {19: None}, 12: {20: None}, 13: {21: None}}\n"
     ]
    }
   ],
   "source": [
    "for crawl in crawls:\n",
    "     visits[crawl] = {sv[0]: None for sv in cur.execute(\"select visit_id from site_visits where crawl_id=?\",[str(crawl)])}\n",
    "print(visits)"
   ]
  },
  {
   "cell_type": "code",
   "execution_count": 249,
   "metadata": {},
   "outputs": [
    {
     "name": "stdout",
     "output_type": "stream",
     "text": [
      "/Users/Danik/Desktop/KCL/YEAR_3/PRJ/Crawls/Results/crawl2/json\n"
     ]
    }
   ],
   "source": [
    "json_fp = path.join(crawl_fp,\"json\")\n",
    "print(json_fp)"
   ]
  },
  {
   "cell_type": "code",
   "execution_count": 204,
   "metadata": {},
   "outputs": [
    {
     "name": "stdout",
     "output_type": "stream",
     "text": [
      "[4, 5]\n",
      "[4, 5, (4, 'visit4.json'), (5, 'visit5.json')]\n"
     ]
    }
   ],
   "source": [
    "print(visits[2])\n",
    "for file, visit in zip(os.listdir(json_fp), visits[2]):\n",
    "    visits[2].append((visit,file))\n",
    "    \n",
    "#     print(visit)\n",
    "print(visits[2])\n",
    "p"
   ]
  },
  {
   "cell_type": "code",
   "execution_count": 288,
   "metadata": {},
   "outputs": [
    {
     "data": {
      "text/plain": [
       "[{4: None}, {5: None}]"
      ]
     },
     "execution_count": 288,
     "metadata": {},
     "output_type": "execute_result"
    }
   ],
   "source": [
    "vis_from = visits[2]\n",
    "vis_from"
   ]
  },
  {
   "cell_type": "code",
   "execution_count": 291,
   "metadata": {},
   "outputs": [
    {
     "data": {
      "text/plain": [
       "[{4: 'hi'}, {5: 'hi'}]"
      ]
     },
     "execution_count": 291,
     "metadata": {},
     "output_type": "execute_result"
    }
   ],
   "source": [
    "for visit in vis_from:\n",
    "    vid = list(visit.keys())[0]\n",
    "#     print(visit[vid])\n",
    "    visit[vid] =  \"hi\"\n",
    "vis_from"
   ]
  },
  {
   "cell_type": "code",
   "execution_count": 295,
   "metadata": {},
   "outputs": [
    {
     "data": {
      "text/plain": [
       "[{4: 'hi'}, {5: 'hi'}]"
      ]
     },
     "execution_count": 295,
     "metadata": {},
     "output_type": "execute_result"
    }
   ],
   "source": [
    "visits[2]"
   ]
  },
  {
   "cell_type": "code",
   "execution_count": 254,
   "metadata": {},
   "outputs": [
    {
     "name": "stdout",
     "output_type": "stream",
     "text": [
      "/Users/Danik/Desktop/KCL/YEAR_3/PRJ/Notebooks/visit5.json\n"
     ]
    }
   ],
   "source": [
    "for file in os.listdir(\"/Users/Danik/Desktop/KCL/YEAR_3/PRJ/Crawls/Results/crawl2/json\"):\n",
    "    file_fp = path.realpath(file)\n",
    "print(file_fp)"
   ]
  },
  {
   "cell_type": "code",
   "execution_count": 362,
   "metadata": {},
   "outputs": [],
   "source": [
    "with open(\"/Users/Danik/Desktop/KCL/YEAR_3/PRJ/Crawls/Results/crawl9/json/visit17.json\", 'r') as js:\n",
    "    ja = json.load(js)"
   ]
  },
  {
   "cell_type": "code",
   "execution_count": 358,
   "metadata": {},
   "outputs": [
    {
     "data": {
      "text/plain": [
       "{4: 'hi', 5: 'hi'}"
      ]
     },
     "execution_count": 358,
     "metadata": {},
     "output_type": "execute_result"
    }
   ],
   "source": [
    "visits[2]"
   ]
  },
  {
   "cell_type": "code",
   "execution_count": 364,
   "metadata": {},
   "outputs": [
    {
     "name": "stdout",
     "output_type": "stream",
     "text": [
      "No hosts!\n"
     ]
    }
   ],
   "source": [
    "try:\n",
    "    for cook, v in ja['hadMember'].items():\n",
    "    #     cook[0]\n",
    "    #     print(cook, v)\n",
    "        print(v['prov:entity'])\n",
    "except:\n",
    "    print(\"No hosts!\")"
   ]
  },
  {
   "cell_type": "code",
   "execution_count": null,
   "metadata": {},
   "outputs": [],
   "source": []
  }
 ],
 "metadata": {
  "kernelspec": {
   "display_name": "Python 3",
   "language": "python",
   "name": "python3"
  },
  "language_info": {
   "codemirror_mode": {
    "name": "ipython",
    "version": 3
   },
   "file_extension": ".py",
   "mimetype": "text/x-python",
   "name": "python",
   "nbconvert_exporter": "python",
   "pygments_lexer": "ipython3",
   "version": "3.7.3"
  }
 },
 "nbformat": 4,
 "nbformat_minor": 4
}
