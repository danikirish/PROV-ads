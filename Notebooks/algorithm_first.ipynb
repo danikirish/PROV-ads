{
 "cells": [
  {
   "cell_type": "code",
   "execution_count": 1,
   "metadata": {},
   "outputs": [
    {
     "data": {
      "text/plain": [
       "'CLASS FILE STARTS BELOW'"
      ]
     },
     "execution_count": 1,
     "metadata": {},
     "output_type": "execute_result"
    }
   ],
   "source": [
    "\"\"\"CLASS FILE STARTS BELOW\"\"\""
   ]
  },
  {
   "cell_type": "code",
   "execution_count": 1,
   "metadata": {},
   "outputs": [],
   "source": [
    "from prov.model import *\n",
    "import prov.model as prov\n",
    "from http import cookies\n",
    "import sqlite3 as lite\n",
    "from os import path\n",
    "import seaborn as sns\n",
    "import matplotlib.pyplot as plt\n",
    "from prov.dot import prov_to_dot\n",
    "from IPython.display import Image\n",
    "\n",
    "class ProvManager():\n",
    "    def __init__(self, output_fp=path.join(os.getcwd(), \"results/\"), db_fp=\"/Users/Danik/Desktop/KCL/YEAR_3/PRJ/Crawls/crawl-data.sqlite\"):\n",
    "        self.db_fp = db_fp\n",
    "        self.output_fp = output_fp\n",
    "        self.documents = {}\n",
    "        self.all_tp_hosts = {1: [],\n",
    "                           2: [],\n",
    "                           3: [],\n",
    "                           4: []}\n",
    "        self.cur = None\n",
    "        if not path.exists(self.output_fp):\n",
    "            os.mkdir(self.output_fp)\n",
    "            \n",
    "#     if __main__ == \"main\":\n",
    "#         main()\n",
    "        \n",
    "    def main(self):\n",
    "        self.db_connect()\n",
    "        self.create_prov()\n",
    "        self.record_prov()\n",
    "        self.write_prov()\n",
    "        self.all_cookie_stats()\n",
    "    \n",
    "    def db_connect(self):\n",
    "        connection = lite.connect(self.db_fp)\n",
    "        self.cur = connection.cursor()\n",
    "    \n",
    "    def create_prov(self):\n",
    "        for visit_id in self.cur.execute(\"select visit_id from site_visits\"):\n",
    "            document = ProvDocument()\n",
    "            document.set_default_namespace('http://danik.com')\n",
    "            self.documents[visit_id[0]] = document\n",
    "#         return document\n",
    "    \n",
    "    def retrieve_tp_hosts(self,visit_id, site_url):\n",
    "        hosts = []\n",
    "        for h in self.cur.execute(\"select host from javascript_cookies where visit_id=?\", str(visit_id)):\n",
    "            split = h[0].split('.')\n",
    "            if 'www' in split: split.remove('www')\n",
    "            host = split[1]\n",
    "            for el in split[2:]:\n",
    "                host += \".\" + el\n",
    "            if site_url.find(host) == -1:\n",
    "                hosts.append(h[0])\n",
    "        return hosts\n",
    "    \n",
    "    def record_prov(self):        \n",
    "        for visit, doc in self.documents.items():\n",
    "            tp_hosts = []\n",
    "            doc.agent('OpenWPM', {'prov:type': 'prov:SoftwareAgent'})\n",
    "            doc.agent('user')\n",
    "            doc.activity('performCrawl')\n",
    "            doc.entity('visit%d'%visit)\n",
    "            self.cur.execute(\"select site_url from site_visits where visit_id=?\",str(visit))\n",
    "            site_url = self.cur.fetchone()[0][7:]\n",
    "            doc.entity(site_url)\n",
    "            doc.entity('syncing_algorithm')\n",
    "            doc.agent('tracker1')\n",
    "            doc.agent('tracker2')\n",
    "            doc.activity('syncCookies')\n",
    "            doc.activity('collectData')\n",
    "\n",
    "            tp_cookies = doc.collection('cookies%d'%visit)\n",
    "        #     tp_cookies.set_default_namespace('http://danik.com/bundles')\n",
    "#             sync_algorithm = doc.bundle('syncing_algorithm')\n",
    "        #     sync_algorithm.set_default_namespace('http://danik.com/syncing')\n",
    "\n",
    "\n",
    "            doc.actedOnBehalfOf('OpenWPM', 'user')\n",
    "            doc.wasAssociatedWith('performCrawl', 'OpenWPM')\n",
    "            doc.wasGeneratedBy('visit%d'%visit, 'performCrawl')\n",
    "            doc.wasDerivedFrom('visit%d'%visit, site_url, 'performCrawl')\n",
    "            doc.wasAttributedTo(site_url, 'tracker1')\n",
    "            doc.wasAssociatedWith('collectData', 'tracker1')\n",
    "            doc.wasGeneratedBy('cookies%d'%visit, 'collectData')\n",
    "            doc.actedOnBehalfOf('tracker2', 'tracker1', 'syncCookies')\n",
    "            doc.used('syncCookies', 'cookies%d'%visit)\n",
    "            doc.used('syncCookies', 'syncing_algorithm')\n",
    "            doc.used('performCrawl', site_url)\n",
    "            doc.used('collectData', site_url)\n",
    "\n",
    "#             for h in cur.execute(\"select host from javascript_cookies where visit_id=?\", str(visit)):\n",
    "#                 split = h[0].split('.')\n",
    "#                 if 'www' in split: split.remove('www')\n",
    "#                 host = split[1]\n",
    "#                 for el in split[2:]:\n",
    "#                     host += \".\" + el\n",
    "#                 if site_url.find(host) == -1:\n",
    "#                     tp_hosts.append(h[0])\n",
    "            tp_hosts = self.retrieve_tp_hosts(visit, site_url)\n",
    "#             print(tp_hosts)\n",
    "        #         hosts.append(host)\n",
    "        #         if host in trackers:\n",
    "        #             hosts.append(host)\n",
    "            for tp in tp_hosts:\n",
    "                e = doc.entity(tp)\n",
    "                doc.hadMember(tp_cookies, e)\n",
    "            self.all_tp_hosts[visit] = tp_hosts\n",
    "        print(\"finished record:\")\n",
    "        print(self.all_tp_hosts[2])\n",
    "            \n",
    "    def write_prov(self):\n",
    "        for visit, document in self.documents.items():\n",
    "            dot = prov_to_dot(document)\n",
    "            dot.write_png(path.join(self.output_fp,'visit%d.png' %visit))\n",
    "#             file = open(path.join(self.output_fp,'visit%d.png' %visit), 'w+')\n",
    "#             file.write(dot)\n",
    "#             file.close()\n",
    "            print(\"writing\")\n",
    "#             dot.write_png('visit%d.png' %visit)\n",
    "\n",
    "    def cookie_stats(self, visit_id, site_url = \"\"):\n",
    "        tp_cookies = self.all_tp_hosts[visit_id]\n",
    "        self.cur.execute(\"select count(id) from javascript_cookies where visit_id=?\", str(visit_id))\n",
    "        cookies_num = self.cur.fetchone()[0]\n",
    "        print(\"This visit resulted in %d cookies being recorded on your browser.\" % cookies_num)\n",
    "        if len(tp_cookies) == 0:\n",
    "            print(\"None of which are 3rd party\")\n",
    "        else:\n",
    "            print(\"Of which %d are 3rd party.\"%len(tp_cookies))\n",
    "            print(\"List of 3rd party trackers: \")\n",
    "            print(set(tp_cookies))\n",
    "            self.cookie_pie(cookies_num, len(tp_cookies), site_url)\n",
    "            \n",
    "    def all_cookie_stats(self,):\n",
    "        for vid, cs in self.all_tp_hosts.items():\n",
    "            self.cur.execute(\"select site_url from site_visits where visit_id=?\",str(vid)) #TODO: Refactor this\n",
    "            site_url = self.cur.fetchone()[0][7:]\n",
    "            print(\"\\nVisit %d to %s\" % (vid, site_url), end='')\n",
    "            self.cookie_stats(vid, site_url = site_url)\n",
    "            \n",
    "    def cookie_pie(self, num_total, num_tp, site_url=\"\"):\n",
    "        color_palette_list = ['#009ACD', '#ADD8E6', '#63D1F4', '#0EBFE9', \n",
    "                              '#C1F0F6', '#0099CC']\n",
    "        labels = ['1st Party', '3rd Party']\n",
    "        plt.rcParams['font.sans-serif'] = 'Arial'\n",
    "        plt.rcParams['font.family'] = 'sans-serif'\n",
    "        plt.rcParams['text.color'] = '#e8001b'\n",
    "        plt.rcParams['axes.labelcolor']= '#e8001b'\n",
    "        plt.rcParams['xtick.color'] = '#e8001b'\n",
    "        plt.rcParams['ytick.color'] = '#e8001b'\n",
    "        plt.rcParams['font.size']=12\n",
    "        values = [num_total -num_tp, num_tp]\n",
    "        explode = (0.1, 0)\n",
    "\n",
    "        fig, ax = plt.subplots()\n",
    "        ax.pie(values, labels=labels, explode=explode, colors=color_palette_list[0:2], autopct='%1.0f%%', shadow=False, startangle=90, pctdistance=0.8, labeldistance=1.1)\n",
    "        ax.axis('equal')\n",
    "        ax.set_title('Proportion of 3rd party cookies from %s\\nTotal number of cookies: %d' %(site_url, num_total))\n",
    "        ax.legend(frameon=False, bbox_to_anchor=(1.5, 0.8))"
   ]
  },
  {
   "cell_type": "code",
   "execution_count": 192,
   "metadata": {},
   "outputs": [],
   "source": [
    "provman = ProvManager()"
   ]
  },
  {
   "cell_type": "code",
   "execution_count": 193,
   "metadata": {},
   "outputs": [
    {
     "name": "stdout",
     "output_type": "stream",
     "text": [
      "finished record:\n",
      "['.addthis.com', '.addthis.com', '.addthis.com', '.addthis.com', '.doubleclick.net', '.bing.com', '.doubleclick.net', '.doubleclick.net', '.linkedin.com', '.ads.linkedin.com', '.linkedin.com', '63621.global.siteimproveanalytics.io', '63621.global.siteimproveanalytics.io', '.facebook.com', '.linkedin.com', '.linkedin.com', '.www.linkedin.com', '.linkedin.com']\n",
      "writing\n",
      "writing\n",
      "writing\n",
      "writing\n",
      "\n",
      "Visit 1 to facebook.com/kotsios1926\n",
      "This visit resulted in 0 cookies being recorded on your browser.\n",
      "None of which are 3rd party\n",
      "\n",
      "Visit 2 to kcl.ac.uk/people/luc-moreau\n",
      "This visit resulted in 28 cookies being recorded on your browser.\n",
      "Of which 18 are 3rd party.\n",
      "List of 3rd party trackers: \n",
      "{'.facebook.com', '.bing.com', '.ads.linkedin.com', '.doubleclick.net', '63621.global.siteimproveanalytics.io', '.addthis.com', '.www.linkedin.com', '.linkedin.com'}\n",
      "\n",
      "Visit 3 to twitter.com/xQc\n",
      "This visit resulted in 6 cookies being recorded on your browser.\n",
      "None of which are 3rd party\n",
      "\n",
      "Visit 4 to thesaurus.comThis visit resulted in 122 cookies being recorded on your browser.\n",
      "Of which 89 are 3rd party.\n",
      "List of 3rd party trackers: \n",
      "{'.advertising.com', '.smartadserver.com', '.adsby.bidtheatre.com', '.adform.net', '.prg.smartadserver.com', '.adnxs.com', '.bidswitch.net', 'ssc.33across.com', 'eus.rubiconproject.com', '.doubleclick.net', '.dnacdn.net', '.lijit.com', '.mathtag.com', '.pubmatic.com', '.de17a.com', '.openx.net', 'ads.programattik.com', '.ads.pubmatic.com', '.dictionary.com'}\n"
     ]
    },
    {
     "data": {
      "image/png": "[encoded data removed]",
      "text/plain": [
       "<Figure size 432x288 with 1 Axes>"
      ]
     },
     "metadata": {},
     "output_type": "display_data"
    },
    {
     "data": {
      "image/png": "[encoded data removed]",
      "text/plain": [
       "<Figure size 432x288 with 1 Axes>"
      ]
     },
     "metadata": {},
     "output_type": "display_data"
    }
   ],
   "source": [
    "# provman.db_connect(\"/Users/Danik/Desktop/KCL/YEAR_3/PRJ/Crawls/crawl-data.sqlite\")\n",
    "# provman.create_prov()\n",
    "# provman.record_prov()\n",
    "# provman.write_prov()\n",
    "# provman.all_cookie_stats()\n",
    "provman.main()"
   ]
  },
  {
   "cell_type": "code",
   "execution_count": 175,
   "metadata": {},
   "outputs": [],
   "source": []
  },
  {
   "cell_type": "code",
   "execution_count": 176,
   "metadata": {},
   "outputs": [
    {
     "name": "stdout",
     "output_type": "stream",
     "text": [
      "finished record:\n",
      "['.addthis.com', '.addthis.com', '.addthis.com', '.addthis.com', '.doubleclick.net', '.bing.com', '.doubleclick.net', '.doubleclick.net', '.linkedin.com', '.ads.linkedin.com', '.linkedin.com', '63621.global.siteimproveanalytics.io', '63621.global.siteimproveanalytics.io', '.facebook.com', '.linkedin.com', '.linkedin.com', '.www.linkedin.com', '.linkedin.com']\n"
     ]
    }
   ],
   "source": []
  },
  {
   "cell_type": "code",
   "execution_count": 177,
   "metadata": {},
   "outputs": [
    {
     "name": "stdout",
     "output_type": "stream",
     "text": [
      "writing\n",
      "writing\n",
      "writing\n",
      "writing\n"
     ]
    }
   ],
   "source": []
  },
  {
   "cell_type": "code",
   "execution_count": 178,
   "metadata": {},
   "outputs": [
    {
     "name": "stdout",
     "output_type": "stream",
     "text": [
      "\n",
      "Visit 1 to facebook.com/kotsios1926\n",
      "This visit resulted in 0 cookies being recorded on your browser.\n",
      "None of which are 3rd party\n",
      "\n",
      "Visit 2 to kcl.ac.uk/people/luc-moreau\n",
      "This visit resulted in 28 cookies being recorded on your browser.\n",
      "Of which 18 are 3rd party.\n",
      "List of 3rd party trackers: \n",
      "{'.facebook.com', '.bing.com', '.ads.linkedin.com', '.doubleclick.net', '63621.global.siteimproveanalytics.io', '.addthis.com', '.www.linkedin.com', '.linkedin.com'}\n",
      "\n",
      "Visit 3 to twitter.com/xQc\n",
      "This visit resulted in 6 cookies being recorded on your browser.\n",
      "None of which are 3rd party\n",
      "\n",
      "Visit 4 to thesaurus.comThis visit resulted in 122 cookies being recorded on your browser.\n",
      "Of which 89 are 3rd party.\n",
      "List of 3rd party trackers: \n",
      "{'.advertising.com', '.smartadserver.com', '.adsby.bidtheatre.com', '.adform.net', '.prg.smartadserver.com', '.adnxs.com', '.bidswitch.net', 'ssc.33across.com', 'eus.rubiconproject.com', '.doubleclick.net', '.dnacdn.net', '.lijit.com', '.mathtag.com', '.pubmatic.com', '.de17a.com', '.openx.net', 'ads.programattik.com', '.ads.pubmatic.com', '.dictionary.com'}\n"
     ]
    },
    {
     "data": {
      "image/png": "[encoded data removed]",
      "text/plain": [
       "<Figure size 432x288 with 1 Axes>"
      ]
     },
     "metadata": {},
     "output_type": "display_data"
    },
    {
     "data": {
      "image/png": "[encoded data removed]",
      "text/plain": [
       "<Figure size 432x288 with 1 Axes>"
      ]
     },
     "metadata": {},
     "output_type": "display_data"
    }
   ],
   "source": []
  },
  {
   "cell_type": "code",
   "execution_count": 18,
   "metadata": {},
   "outputs": [],
   "source": [
    "# # for jid,hurl in cur.execute(\"select j.id, h.url from javascript_cookies as j join http_requests as h on j.visit_id=h.visit_id\"):\n",
    "# #     print((jid,hurl))\n",
    "# # cur.execute(\"select h.url, count(j.id) from http_requests as h left join javascript_cookies as j on j.visit_id=h.visit_id group by h.visit_id\")\n",
    "# cur.execute(\"select s.site_url, count(j.id) from site_visits as s left join javascript_cookies as j on j.visit_id=s.visit_id group by s.visit_id\")\n",
    "# print(\"All cookies:\\n%s\" % cur.fetchall())\n",
    "# cur.execute(\"select s.site_url, count(j.id) from site_visits as s left join javascript_cookies as j on j.visit_id=s.visit_id where j.is_host_only=0 group by s.visit_id\")\n",
    "# print(\"3rd party:\\n%s\" % cur.fetchall())"
   ]
  },
  {
   "cell_type": "code",
   "execution_count": 158,
   "metadata": {},
   "outputs": [],
   "source": [
    "# documents = {}\n",
    "# for visit_id in cur.execute(\"select visit_id from site_visits\"):\n",
    "#     document = provman.create_prov(visit_id[0])\n",
    "#     documents[visit_id[0]] = document\n",
    "#     document.set_default_namespace('http://danik.com')"
   ]
  },
  {
   "cell_type": "code",
   "execution_count": 159,
   "metadata": {},
   "outputs": [],
   "source": [
    "# # trackers = [\".addthis.com\", \".doublecklick.net\"]\n",
    "# all_tp_hosts = {1: [],\n",
    "#                2: [],\n",
    "#                3: [],\n",
    "#                4: []}\n",
    "# for visit, doc in documents.items():\n",
    "#     tp_hosts = []\n",
    "#     doc.agent('OpenWPM', {'prov:type': 'prov:SoftwareAgent'})\n",
    "#     doc.agent('user')\n",
    "#     doc.activity('performCrawl')\n",
    "#     doc.entity('visit%d'%visit)\n",
    "#     cur.execute(\"select site_url from site_visits where visit_id=?\",str(visit))\n",
    "#     site_url = cur.fetchone()[0][7:]\n",
    "#     doc.entity(site_url)\n",
    "#     doc.agent('tracker1')\n",
    "#     doc.agent('tracker2')\n",
    "#     doc.activity('syncCookies')\n",
    "#     doc.activity('collectData')\n",
    "    \n",
    "#     tp_cookies = doc.collection('cookies%d'%visit)\n",
    "# #     tp_cookies.set_default_namespace('http://danik.com/bundles')\n",
    "#     sync_algorithm = doc.bundle('syncing_algorithm')\n",
    "# #     sync_algorithm.set_default_namespace('http://danik.com/syncing')\n",
    "    \n",
    "\n",
    "#     doc.actedOnBehalfOf('OpenWPM', 'user')\n",
    "#     doc.wasAssociatedWith('performCrawl', 'OpenWPM')\n",
    "#     doc.wasGeneratedBy('visit%d'%visit, 'performCrawl')\n",
    "#     doc.wasDerivedFrom('visit%d'%visit, site_url, 'performCrawl')\n",
    "#     doc.wasAttributedTo(site_url, 'tracker1')\n",
    "#     doc.wasAssociatedWith('collectData', 'tracker1')\n",
    "#     doc.wasGeneratedBy('cookies%d'%visit, 'collectData')\n",
    "#     doc.actedOnBehalfOf('tracker2', 'tracker1', 'syncCookies')\n",
    "#     doc.used('syncCookies', 'cookies%d'%visit)\n",
    "#     doc.used('syncCookies', 'syncing_algorithm')\n",
    "#     doc.used('performCrawl', site_url)\n",
    "#     doc.used('collectData', site_url)\n",
    "    \n",
    "#     for h in cur.execute(\"select host from javascript_cookies where visit_id=?\", str(visit)):\n",
    "#         split = h[0].split('.')\n",
    "#         if 'www' in split: split.remove('www')\n",
    "#         host = split[1]\n",
    "#         for el in split[2:]:\n",
    "#             host += \".\" + el\n",
    "#         if site_url.find(host) == -1:\n",
    "#             tp_hosts.append(h[0])\n",
    "            \n",
    "# #         hosts.append(host)\n",
    "# #         if host in trackers:\n",
    "# #             hosts.append(host)\n",
    "#     for tp in tp_hosts:\n",
    "#         e = doc.entity(tp)\n",
    "#         doc.hadMember(tp_cookies, e)\n",
    "#     all_tp_hosts[visit] = tp_hosts\n",
    "# #         print(host[0])\n",
    "# #     print(doc.namespaces)\n",
    "# #     doc.e\n",
    "# #         e = doc.entity('a', 'e', 'g')\n",
    "# #         print(host[0])"
   ]
  },
  {
   "cell_type": "code",
   "execution_count": 11,
   "metadata": {},
   "outputs": [],
   "source": [
    "# all_tp_hosts"
   ]
  },
  {
   "cell_type": "code",
   "execution_count": 12,
   "metadata": {},
   "outputs": [],
   "source": [
    "# cur.execute(\"select site_url from site_visits where visit_id=?\",'2')\n",
    "# site_url = cur.fetchone()[0][7:]\n",
    "# print(site_url)\n",
    "# for h in cur.execute(\"select host from javascript_cookies where visit_id=?\", '2'):\n",
    "#         split = h[0].split('.')\n",
    "#         if 'www' in split: split.remove('www')\n",
    "#         host = split[1]\n",
    "        \n",
    "#         for el in split[2:]:\n",
    "#             host += \".\" + el\n",
    "#         if site_url.find(host) == -1:\n",
    "#             tp_hosts.append(h[0])\n",
    "#             print(h)"
   ]
  },
  {
   "cell_type": "code",
   "execution_count": 155,
   "metadata": {},
   "outputs": [],
   "source": [
    "# from prov.dot import prov_to_dot\n",
    "# from IPython.display import Image\n",
    "# for visit, document in documents.items():\n",
    "#     dot = prov_to_dot(document)\n",
    "#     dot.write_png('visit%d.png' %visit)\n",
    "#     Image('visit%d.png' %visit)"
   ]
  },
  {
   "cell_type": "code",
   "execution_count": 235,
   "metadata": {},
   "outputs": [],
   "source": [
    "def cookie_stats(visit_id, site_url = \"\"):\n",
    "    tp_cookies = all_tp_hosts[visit_id]\n",
    "    cur.execute(\"select count(id) from javascript_cookies where visit_id=?\", str(visit_id))\n",
    "    cookies_num = cur.fetchone()[0]\n",
    "    print(\"This visit resulted in %d cookies being recorded on your browser.\" % cookies_num)\n",
    "    if len(tp_cookies) == 0:\n",
    "        print(\"None of which are 3rd party\")\n",
    "    else:\n",
    "        print(\"Of which %d are 3rd party.\"%len(tp_cookies))\n",
    "        print(\"List of 3rd party trackers: \")\n",
    "        print(set(tp_cookies))\n",
    "        cookie_pie(cookies_num, len(tp_cookies), site_url)"
   ]
  },
  {
   "cell_type": "code",
   "execution_count": 214,
   "metadata": {},
   "outputs": [
    {
     "name": "stdout",
     "output_type": "stream",
     "text": [
      "This visit resulted in 28 cookies being recorded on your browser.\n",
      "Of which 18 are 3rd party.\n",
      "List of 3rd party trackers: \n",
      "{'63621.global.siteimproveanalytics.io', '.www.linkedin.com', '.doubleclick.net', '.ads.linkedin.com', '.linkedin.com', '.bing.com', '.addthis.com', '.facebook.com'}\n"
     ]
    }
   ],
   "source": [
    "get_cookie_stats(2)"
   ]
  },
  {
   "cell_type": "code",
   "execution_count": 236,
   "metadata": {},
   "outputs": [],
   "source": [
    "def all_cookie_stats():\n",
    "    for vid, cs in all_tp_hosts.items():\n",
    "        cur.execute(\"select site_url from site_visits where visit_id=?\",str(vid)) #TODO: Refactor this\n",
    "        site_url = cur.fetchone()[0][7:]\n",
    "        print(\"\\nVisit %d to %s\" % (vid, site_url), end='')\n",
    "        cookie_stats(vid, site_url = site_url)"
   ]
  },
  {
   "cell_type": "code",
   "execution_count": 243,
   "metadata": {},
   "outputs": [
    {
     "name": "stdout",
     "output_type": "stream",
     "text": [
      "\n",
      "Visit 1 to facebook.com/kotsios1926\n",
      "This visit resulted in 0 cookies being recorded on your browser.\n",
      "None of which are 3rd party\n",
      "\n",
      "Visit 2 to kcl.ac.uk/people/luc-moreau\n",
      "This visit resulted in 28 cookies being recorded on your browser.\n",
      "Of which 18 are 3rd party.\n",
      "List of 3rd party trackers: \n",
      "{'63621.global.siteimproveanalytics.io', '.www.linkedin.com', '.doubleclick.net', '.ads.linkedin.com', '.linkedin.com', '.bing.com', '.addthis.com', '.facebook.com'}\n",
      "\n",
      "Visit 3 to twitter.com/xQc\n",
      "This visit resulted in 6 cookies being recorded on your browser.\n",
      "None of which are 3rd party\n",
      "\n",
      "Visit 4 to thesaurus.comThis visit resulted in 122 cookies being recorded on your browser.\n",
      "Of which 89 are 3rd party.\n",
      "List of 3rd party trackers: \n",
      "{'.adnxs.com', '.adsby.bidtheatre.com', '.doubleclick.net', '.openx.net', '.pubmatic.com', '.ads.pubmatic.com', '.bidswitch.net', '.de17a.com', '.dnacdn.net', '.adform.net', '.mathtag.com', 'ssc.33across.com', '.dictionary.com', '.advertising.com', '.prg.smartadserver.com', '.smartadserver.com', 'eus.rubiconproject.com', 'ads.programattik.com', '.lijit.com'}\n"
     ]
    },
    {
     "data": {
      "image/png": "[encoded data removed]",
      "text/plain": [
       "<Figure size 432x288 with 1 Axes>"
      ]
     },
     "metadata": {},
     "output_type": "display_data"
    },
    {
     "data": {
      "image/png": "[encoded data removed]",
      "text/plain": [
       "<Figure size 432x288 with 1 Axes>"
      ]
     },
     "metadata": {},
     "output_type": "display_data"
    }
   ],
   "source": [
    "all_cookie_stats()"
   ]
  },
  {
   "cell_type": "code",
   "execution_count": 126,
   "metadata": {},
   "outputs": [
    {
     "name": "stdout",
     "output_type": "stream",
     "text": [
      ".twitter.com\n",
      ".twitter.com\n",
      ".twitter.com\n",
      ".twitter.com\n",
      ".twitter.com\n",
      ".twitter.com\n"
     ]
    }
   ],
   "source": [
    "cookies2 = testdoc.get_records()\n",
    "type(cookies2)\n",
    "cookies2\n",
    "for record in cookies2:\n",
    "    if type(record) is ProvMembership:\n",
    "        print(record.attributes[1][1])                                  \n",
    "        "
   ]
  },
  {
   "cell_type": "code",
   "execution_count": 179,
   "metadata": {},
   "outputs": [],
   "source": []
  },
  {
   "cell_type": "code",
   "execution_count": 242,
   "metadata": {},
   "outputs": [],
   "source": [
    "def cookie_pie(num_total, num_tp, site_url=\"\"):\n",
    "    color_palette_list = ['#009ACD', '#ADD8E6', '#63D1F4', '#0EBFE9', \n",
    "                          '#C1F0F6', '#0099CC']\n",
    "    labels = ['1st Party', '3rd Party']\n",
    "    plt.rcParams['font.sans-serif'] = 'Arial'\n",
    "    plt.rcParams['font.family'] = 'sans-serif'\n",
    "    plt.rcParams['text.color'] = '#e8001b'\n",
    "    plt.rcParams['axes.labelcolor']= '#e8001b'\n",
    "    plt.rcParams['xtick.color'] = '#e8001b'\n",
    "    plt.rcParams['ytick.color'] = '#e8001b'\n",
    "    plt.rcParams['font.size']=12\n",
    "    values = [num_total -num_tp, num_tp]\n",
    "    explode = (0.1, 0)\n",
    "\n",
    "    fig, ax = plt.subplots()\n",
    "    ax.pie(values, labels=labels, explode=explode, colors=color_palette_list[0:2], autopct='%1.0f%%', shadow=False, startangle=90, pctdistance=0.8, labeldistance=1.1)\n",
    "    ax.axis('equal')\n",
    "    ax.set_title('Proportion of 3rd party cookies from %s\\nTotal number of cookies: %d' %(site_url, num_total))\n",
    "    ax.legend(frameon=False, bbox_to_anchor=(1.5, 0.8))"
   ]
  },
  {
   "cell_type": "code",
   "execution_count": 1,
   "metadata": {},
   "outputs": [
    {
     "data": {
      "text/plain": [
       "'STARTING FULL EXECUTION'"
      ]
     },
     "execution_count": 1,
     "metadata": {},
     "output_type": "execute_result"
    }
   ],
   "source": [
    "\"\"\"STARTING FULL EXECUTION\"\"\""
   ]
  },
  {
   "cell_type": "code",
   "execution_count": 9,
   "metadata": {},
   "outputs": [
    {
     "data": {
      "text/plain": [
       "True"
      ]
     },
     "execution_count": 9,
     "metadata": {},
     "output_type": "execute_result"
    }
   ],
   "source": [
    "path.exists('/Users/Danik/Desktop/KCL/YEAR_3/PRJ/OpenWPM')"
   ]
  },
  {
   "cell_type": "code",
   "execution_count": null,
   "metadata": {},
   "outputs": [],
   "source": [
    "def main():\n",
    "    print(\"hello world\")\n",
    "if __name__ == \"__name__\":\n",
    "    main()"
   ]
  },
  {
   "cell_type": "code",
   "execution_count": 10,
   "metadata": {},
   "outputs": [
    {
     "data": {
      "text/plain": [
       "[1, 2, 3, [4, 5, 6]]"
      ]
     },
     "execution_count": 10,
     "metadata": {},
     "output_type": "execute_result"
    }
   ],
   "source": [
    "a = [1,2,3]\n",
    "b = [4,5,6]\n",
    "a.append(b)\n",
    "a"
   ]
  },
  {
   "cell_type": "code",
   "execution_count": 4,
   "metadata": {},
   "outputs": [],
   "source": [
    "import sh"
   ]
  },
  {
   "cell_type": "code",
   "execution_count": null,
   "metadata": {},
   "outputs": [],
   "source": []
  },
  {
   "cell_type": "code",
   "execution_count": 3,
   "metadata": {},
   "outputs": [],
   "source": [
    "con = lite.connect(\"/Users/Danik/Desktop/KCL/YEAR_3/PRJ/Crawls/crawl-data.sqlite\")"
   ]
  },
  {
   "cell_type": "code",
   "execution_count": 4,
   "metadata": {},
   "outputs": [],
   "source": [
    "cursor = con.cursor()"
   ]
  },
  {
   "cell_type": "code",
   "execution_count": 5,
   "metadata": {},
   "outputs": [],
   "source": [
    "cursor.execute(\"select crawl_id from crawl\")\n",
    "last_crawl = max(cursor.fetchall())[0]"
   ]
  },
  {
   "cell_type": "code",
   "execution_count": 121,
   "metadata": {},
   "outputs": [],
   "source": [
    "hdrs = []\n",
    "for header in cursor.execute(\"select headers from http_responses where visit_id=16\"):\n",
    "    hdrs.append(eval(header[0]))\n"
   ]
  },
  {
   "cell_type": "code",
   "execution_count": 122,
   "metadata": {},
   "outputs": [
    {
     "data": {
      "text/plain": [
       "[['server', 'nginx'],\n",
       " ['date', 'Thu, 09 Apr 2020 12:10:54 GMT'],\n",
       " ['content-type', 'text/html; charset=utf-8'],\n",
       " ['content-length', '37507'],\n",
       " ['x-powered-by', 'Express'],\n",
       " ['etag', 'W/\"34326-PShiG8N+jjNCdlPXPC8cs139Tb8\"'],\n",
       " ['content-encoding', 'gzip'],\n",
       " ['x-rq', 'lhr2 96 219 3500'],\n",
       " ['cache-control', 'max-age=300, must-revalidate'],\n",
       " ['age', '562'],\n",
       " ['x-cache', 'hit'],\n",
       " ['vary', 'Accept-Encoding'],\n",
       " ['accept-ranges', 'bytes'],\n",
       " ['strict-transport-security', 'max-age=31536000;includeSubdomains;preload'],\n",
       " ['X-Firefox-Spdy', 'h2']]"
      ]
     },
     "execution_count": 122,
     "metadata": {},
     "output_type": "execute_result"
    }
   ],
   "source": [
    "hdrs[0]"
   ]
  },
  {
   "cell_type": "code",
   "execution_count": 123,
   "metadata": {},
   "outputs": [],
   "source": [
    "tags = []"
   ]
  },
  {
   "cell_type": "code",
   "execution_count": 124,
   "metadata": {},
   "outputs": [],
   "source": [
    "for bar in hdrs:\n",
    "    for foo in bar:\n",
    "        try:\n",
    "            if foo[0] not in tags:\n",
    "                tags.append(foo[0])\n",
    "        except:\n",
    "            if foo not in tags:\n",
    "                tags.append(foo)\n"
   ]
  },
  {
   "cell_type": "code",
   "execution_count": 125,
   "metadata": {},
   "outputs": [
    {
     "data": {
      "text/plain": [
       "['server',\n",
       " 'date',\n",
       " 'content-type',\n",
       " 'content-length',\n",
       " 'x-powered-by',\n",
       " 'etag',\n",
       " 'content-encoding',\n",
       " 'x-rq',\n",
       " 'cache-control',\n",
       " 'age',\n",
       " 'x-cache',\n",
       " 'vary',\n",
       " 'accept-ranges',\n",
       " 'strict-transport-security',\n",
       " 'X-Firefox-Spdy',\n",
       " 'last-modified',\n",
       " 'expires',\n",
       " 'x-optim-disabled',\n",
       " 'x-content-type-options',\n",
       " 'x-robots-tag',\n",
       " 'x-permitted-cross-domain-policies',\n",
       " 'x-xss-protection',\n",
       " 'via',\n",
       " 'x-amz-cf-pop',\n",
       " 'x-amz-cf-id',\n",
       " 'access-control-allow-origin',\n",
       " 'access-control-allow-credentials',\n",
       " 'access-control-allow-headers',\n",
       " 'alt-svc',\n",
       " 'set-cookie',\n",
       " 'access-control-expose-headers',\n",
       " 'cf-cache-status',\n",
       " 'expect-ct',\n",
       " 'cf-ray',\n",
       " 'p3p',\n",
       " 'pragma',\n",
       " 'link',\n",
       " 'allow',\n",
       " 'access-control-allow-methods',\n",
       " 'timing-allow-origin',\n",
       " 'x-served-by',\n",
       " 'x-timer',\n",
       " 'Last-Modified',\n",
       " 'Accept-Ranges',\n",
       " 'Content-Type',\n",
       " 'Vary',\n",
       " 'Content-Encoding',\n",
       " 'Cache-Control',\n",
       " 'Date',\n",
       " 'Content-Length',\n",
       " 'Connection',\n",
       " 'X-CDN',\n",
       " 'content-security-policy',\n",
       " 'x-frame-options',\n",
       " 'x-fb-debug',\n",
       " 'x-fb-trip-id',\n",
       " 'x-cache-hit',\n",
       " 'section-io-origin-status',\n",
       " 'section-io-origin-time-seconds',\n",
       " 'section-origin-responded',\n",
       " 'access-control-max-age',\n",
       " 'section-io-tag',\n",
       " 'section-io-cache',\n",
       " 'section-io-id',\n",
       " 'Expires',\n",
       " 'Server',\n",
       " 'X-AspNet-Version',\n",
       " 'X-Powered-By',\n",
       " 'x-msedge-ref',\n",
       " 'content-disposition',\n",
       " 'x-newrelic-app-data',\n",
       " 'content-md5',\n",
       " 'x-ms-blob-type',\n",
       " 'x-ms-lease-status',\n",
       " 'x-ms-request-id',\n",
       " 'x-ms-version',\n",
       " 'Transfer-Encoding',\n",
       " 'ETag',\n",
       " 'Pragma',\n",
       " 'X-Cache',\n",
       " 'Via',\n",
       " 'X-Amz-Cf-Pop',\n",
       " 'X-Amz-Cf-Id',\n",
       " 'Age',\n",
       " 'served-in-seconds',\n",
       " 'p3P',\n",
       " 'Set-Cookie',\n",
       " 'x-amz-id-2',\n",
       " 'x-amz-request-id',\n",
       " 'P3P',\n",
       " 'DCS',\n",
       " 'Strict-Transport-Security',\n",
       " 'X-Content-Type-Options',\n",
       " 'X-TID',\n",
       " 'google-mediationgroup-id',\n",
       " 'google-lineitem-id',\n",
       " 'google-creative-id',\n",
       " 'google-mediationtag-id',\n",
       " 'linkedin-action',\n",
       " 'x-li-fabric',\n",
       " 'x-li-pop',\n",
       " 'x-li-proto',\n",
       " 'x-li-uuid',\n",
       " 'status',\n",
       " 'x-connection-hash',\n",
       " 'x-response-time',\n",
       " 'x-transaction',\n",
       " 'x-twitter-response-tags',\n",
       " 'x-dns-prefetch-control',\n",
       " 'Access-Control-Allow-Origin',\n",
       " 'Access-Control-Allow-Credentials',\n",
       " 'Access-Control-Allow-Methods']"
      ]
     },
     "execution_count": 125,
     "metadata": {},
     "output_type": "execute_result"
    }
   ],
   "source": [
    "tags"
   ]
  },
  {
   "cell_type": "code",
   "execution_count": 136,
   "metadata": {},
   "outputs": [],
   "source": [
    "big_tags = []\n",
    "big_hdrs = []"
   ]
  },
  {
   "cell_type": "code",
   "execution_count": 137,
   "metadata": {},
   "outputs": [],
   "source": [
    "for header in cursor.execute(\"select headers from http_responses where visit_id=? or ?\", ('16','2')):\n",
    "    big_hdrs.append(eval(header[0]))"
   ]
  },
  {
   "cell_type": "code",
   "execution_count": 138,
   "metadata": {},
   "outputs": [],
   "source": [
    "for bar in big_hdrs:\n",
    "    for foo in bar:\n",
    "        try:\n",
    "            if foo[0] not in big_tags:\n",
    "                big_tags.append(foo[0])\n",
    "        except:\n",
    "            if foo not in big_tags:\n",
    "                big_tags.append(foo)"
   ]
  },
  {
   "cell_type": "code",
   "execution_count": 139,
   "metadata": {},
   "outputs": [
    {
     "data": {
      "text/plain": [
       "['AN-X-Request-Uuid',\n",
       " 'Accept-Ranges',\n",
       " 'Access-Control-Allow-Credentials',\n",
       " 'Access-Control-Allow-Headers',\n",
       " 'Access-Control-Allow-Methods',\n",
       " 'Access-Control-Allow-Origin',\n",
       " 'Access-Control-Max-Age',\n",
       " 'Age',\n",
       " 'Cache-Control',\n",
       " 'Cneonction',\n",
       " 'Connection',\n",
       " 'Content-Encoding',\n",
       " 'Content-Length',\n",
       " 'Content-Range',\n",
       " 'Content-Type',\n",
       " 'DCS',\n",
       " 'Date',\n",
       " 'ETag',\n",
       " 'Etag',\n",
       " 'Expires',\n",
       " 'Keep-Alive',\n",
       " 'Last-Modified',\n",
       " 'Link',\n",
       " 'P3P',\n",
       " 'P3p',\n",
       " 'Pragma',\n",
       " 'Referrer-Policy',\n",
       " 'Server',\n",
       " 'Server-Cache-Control',\n",
       " 'Server-Surrogate-Control',\n",
       " 'Set-Cookie',\n",
       " 'Strict-Transport-Security',\n",
       " 'Surrogate-Control',\n",
       " 'Transfer-Encoding',\n",
       " 'Vary',\n",
       " 'Via',\n",
       " 'X-Age',\n",
       " 'X-Amz-Cf-Id',\n",
       " 'X-Amz-Cf-Pop',\n",
       " 'X-AspNet-Version',\n",
       " 'X-BACKEND-TTL',\n",
       " 'X-CDN',\n",
       " 'X-Cache',\n",
       " 'X-Cache-ASPX',\n",
       " 'X-Cache-Hits',\n",
       " 'X-Cacheable',\n",
       " 'X-Cnection',\n",
       " 'X-Content-Type-Options',\n",
       " 'X-Creative-ID',\n",
       " 'X-FW-Power-By',\n",
       " 'X-Firefox-Spdy',\n",
       " 'X-Frame-Options',\n",
       " 'X-Grace',\n",
       " 'X-HW',\n",
       " 'X-Host',\n",
       " 'X-Origin-Server',\n",
       " 'X-Permitted-Cross-Domain-Policies',\n",
       " 'X-Powered-By',\n",
       " 'X-Proxy-Origin',\n",
       " 'X-RPHost',\n",
       " 'X-Served-By',\n",
       " 'X-Server',\n",
       " 'X-Server-Name',\n",
       " 'X-Sovrn-Pod',\n",
       " 'X-TID',\n",
       " 'X-Timer',\n",
       " 'X-Url',\n",
       " 'X-Varnish',\n",
       " 'X-XSS-Protection',\n",
       " 'X-lat',\n",
       " 'accept-ranges',\n",
       " 'access-control-allow-credentials',\n",
       " 'access-control-allow-headers',\n",
       " 'access-control-allow-methods',\n",
       " 'access-control-allow-origin',\n",
       " 'access-control-expose-headers',\n",
       " 'access-control-max-age',\n",
       " 'adler-geo',\n",
       " 'age',\n",
       " 'allow',\n",
       " 'alt-svc',\n",
       " 'blog-ie-polyfill',\n",
       " 'cache-control',\n",
       " 'cached-cookies',\n",
       " 'cf-cache-status',\n",
       " 'cf-ray',\n",
       " 'content-disposition',\n",
       " 'content-encoding',\n",
       " 'content-length',\n",
       " 'content-md5',\n",
       " 'content-range',\n",
       " 'content-security-policy',\n",
       " 'content-type',\n",
       " 'cr-trace-id',\n",
       " 'date',\n",
       " 'detected-user-agent',\n",
       " 'etag',\n",
       " 'expect-ct',\n",
       " 'expires',\n",
       " 'facebook-api-version',\n",
       " 'fastly-io-info',\n",
       " 'fastly-restarts',\n",
       " 'fastly-stats',\n",
       " 'feature-policy',\n",
       " 'google-creative-id',\n",
       " 'google-lineitem-id',\n",
       " 'google-mediationgroup-id',\n",
       " 'google-mediationtag-id',\n",
       " 'is-eu',\n",
       " 'last-modified',\n",
       " 'link',\n",
       " 'linkedin-action',\n",
       " 'nel',\n",
       " 'nnCoection',\n",
       " 'normalized-user-agent',\n",
       " 'p3P',\n",
       " 'p3p',\n",
       " 'platform',\n",
       " 'pragma',\n",
       " 'referrer-policy',\n",
       " 'report-to',\n",
       " 'retry-after',\n",
       " 'section-io-cache',\n",
       " 'section-io-id',\n",
       " 'section-io-origin-status',\n",
       " 'section-io-origin-time-seconds',\n",
       " 'section-io-tag',\n",
       " 'section-origin-responded',\n",
       " 'served-in-seconds',\n",
       " 'server',\n",
       " 'server-timing',\n",
       " 'set-cookie',\n",
       " 'status',\n",
       " 'strict-transport-security',\n",
       " 'surrogate-key',\n",
       " 'timing-allow-origin',\n",
       " 'transfer-encoding',\n",
       " 'vary',\n",
       " 'via',\n",
       " 'x-amz-apigw-id',\n",
       " 'x-amz-cf-id',\n",
       " 'x-amz-cf-pop',\n",
       " 'x-amz-expiration',\n",
       " 'x-amz-id-2',\n",
       " 'x-amz-meta-creator',\n",
       " 'x-amz-meta-surrogate-control',\n",
       " 'x-amz-replication-status',\n",
       " 'x-amz-request-id',\n",
       " 'x-amz-server-side-encryption',\n",
       " 'x-amz-version-id',\n",
       " 'x-amzn-requestid',\n",
       " 'x-amzn-trace-id',\n",
       " 'x-apikeys',\n",
       " 'x-app-usage',\n",
       " 'x-aspnet-version',\n",
       " 'x-cache',\n",
       " 'x-cache-group',\n",
       " 'x-cache-hit',\n",
       " 'x-cache-hits',\n",
       " 'x-cacheable',\n",
       " 'x-connection-hash',\n",
       " 'x-contensis-viewer-groups',\n",
       " 'x-content-digest',\n",
       " 'x-content-type-options',\n",
       " 'x-crunchyroll-regen-timestamp',\n",
       " 'x-crunchyroll-regenerated-from',\n",
       " 'x-depends',\n",
       " 'x-distribution',\n",
       " 'x-dns-prefetch-control',\n",
       " 'x-envoy-upstream-service-time',\n",
       " 'x-fb-debug',\n",
       " 'x-fb-request-id',\n",
       " 'x-fb-rev',\n",
       " 'x-fb-trace-id',\n",
       " 'x-fb-trip-id',\n",
       " 'x-fonts-legal-notice',\n",
       " 'x-frame-options',\n",
       " 'x-gu-backend-app',\n",
       " 'x-gu-debug-url',\n",
       " 'x-gu-edition',\n",
       " 'x-gu-geolocation',\n",
       " 'x-host',\n",
       " 'x-li-fabric',\n",
       " 'x-li-pop',\n",
       " 'x-li-proto',\n",
       " 'x-li-uuid',\n",
       " 'x-load-time',\n",
       " 'x-ms-blob-type',\n",
       " 'x-ms-lease-status',\n",
       " 'x-ms-request-id',\n",
       " 'x-ms-version',\n",
       " 'x-msedge-ref',\n",
       " 'x-newrelic-app-data',\n",
       " 'x-node',\n",
       " 'x-optim-disabled',\n",
       " 'x-permitted-cross-domain-policies',\n",
       " 'x-powered-by',\n",
       " 'x-rack-cache',\n",
       " 'x-request-guid',\n",
       " 'x-request-id',\n",
       " 'x-request-time',\n",
       " 'x-response-time',\n",
       " 'x-robots-tag',\n",
       " 'x-rq',\n",
       " 'x-runtime',\n",
       " 'x-served-by',\n",
       " 'x-server-name',\n",
       " 'x-smrt-d',\n",
       " 'x-sucuri-cache',\n",
       " 'x-sucuri-id',\n",
       " 'x-timer',\n",
       " 'x-transaction',\n",
       " 'x-twitter-response-tags',\n",
       " 'x-variation',\n",
       " 'x-varnish-authentication',\n",
       " 'x-xss-protection']"
      ]
     },
     "execution_count": 139,
     "metadata": {},
     "output_type": "execute_result"
    }
   ],
   "source": [
    "sorted(big_tags)"
   ]
  },
  {
   "cell_type": "code",
   "execution_count": 23,
   "metadata": {},
   "outputs": [],
   "source": [
    "for h in hdr_list:\n",
    "    if \"Set-Cookie\" in h:\n",
    "        vals = h[1].split(';')"
   ]
  },
  {
   "cell_type": "code",
   "execution_count": 50,
   "metadata": {},
   "outputs": [
    {
     "data": {
      "text/plain": [
       "'HttpOnly'"
      ]
     },
     "execution_count": 50,
     "metadata": {},
     "output_type": "execute_result"
    }
   ],
   "source": [
    "vals = [v.lstrip() for v in vals]\n",
    "vals[5].split('=')[0]"
   ]
  },
  {
   "cell_type": "code",
   "execution_count": 51,
   "metadata": {},
   "outputs": [],
   "source": [
    "val_dict = {val.split('=')[0]: (val.split('=')[1] if '=' in val else \" \") for val in vals}"
   ]
  },
  {
   "cell_type": "code",
   "execution_count": 52,
   "metadata": {},
   "outputs": [
    {
     "data": {
      "text/plain": [
       "{'parsely_network_uuid': '7ae36dfd-0deb-46f9-826f-48233e5e605a',\n",
       " 'Max-Age': '3153600000',\n",
       " 'Domain': '.config.parsely.com',\n",
       " 'Path': '/',\n",
       " 'Expires': 'Sat, 16 Mar 2120 12:10:57 GMT',\n",
       " 'HttpOnly': ' '}"
      ]
     },
     "execution_count": 52,
     "metadata": {},
     "output_type": "execute_result"
    }
   ],
   "source": [
    "val_dict"
   ]
  },
  {
   "cell_type": "markdown",
   "metadata": {},
   "source": [
    "# DESIGN TEMPLATE"
   ]
  },
  {
   "cell_type": "code",
   "execution_count": 15,
   "metadata": {},
   "outputs": [],
   "source": [
    "doc = ProvDocument()\n",
    "doc.set_default_namespace('http://danik.com')\n",
    "site_url = 'example.com'"
   ]
  },
  {
   "cell_type": "code",
   "execution_count": 16,
   "metadata": {},
   "outputs": [
    {
     "data": {
      "text/plain": [
       "<ProvMembership: (cookies, 3)>"
      ]
     },
     "execution_count": 16,
     "metadata": {},
     "output_type": "execute_result"
    }
   ],
   "source": [
    "doc.agent('OpenWPM', {'prov:type': 'prov:SoftwareAgent'})\n",
    "doc.agent('user')\n",
    "# doc.agent('tracker1')\n",
    "doc.agent('publisher.com')\n",
    "# if self.cookie_sync():\n",
    "#     print(\"There's cookie sync\")\n",
    "#     doc.agent('tracker2')\n",
    "\n",
    "# Entities\n",
    "doc.entity('visit', {'id': '1'})\n",
    "doc.entity('example.com')\n",
    "# doc.entity('syncing_algorithm')\n",
    "doc.entity('crawl', {'id': '1',\n",
    "                     'DNT': 'False'})\n",
    "doc.entity('Firefox')\n",
    "\n",
    "# Activities\n",
    "doc.activity('performCrawl')\n",
    "# doc.activity('syncCookies')\n",
    "doc.activity('setCookies')\n",
    "doc.activity('visitSite')\n",
    "\n",
    "doc.collection('trackers')\n",
    "doc.collection('cookies')\n",
    "\n",
    "# RELATIONS\n",
    "# Delegations\n",
    "doc.actedOnBehalfOf('OpenWPM', 'user')\n",
    "# doc.actedOnBehalfOf('tracker2', 'tracker1', 'syncCookies')\n",
    "\n",
    "# Associations\n",
    "doc.wasAssociatedWith('performCrawl', 'OpenWPM')\n",
    "# doc.wasAssociatedWith('setCookies', 'tracker1')\n",
    "\n",
    "# Generations\n",
    "doc.wasGeneratedBy('cookies', 'setCookies')\n",
    "doc.wasGeneratedBy('visit', 'visitSite')\n",
    "doc.wasGeneratedBy('crawl', 'performCrawl')\n",
    "# doc.wasGeneratedBy('trackers', 'visitSite')\n",
    "\n",
    "# Derivations\n",
    "doc.wasDerivedFrom('visit', 'example.com', activity='visitSite')\n",
    "\n",
    "doc.wasStartedBy('visitSite', 'crawl', starter='performCrawl')\n",
    "\n",
    "# Attributions\n",
    "doc.wasAttributedTo('example.com', 'publisher.com')\n",
    "\n",
    "# Usages\n",
    "# doc.used('syncCookies', 'cookies%d'%visit)\n",
    "# doc.used('syncCookies', 'syncing_algorithm')\n",
    "doc.used('visitSite', site_url)\n",
    "doc.used('setCookies', site_url)\n",
    "doc.used('performCrawl', 'Firefox')\n",
    "\n",
    "doc.agent('tracker1.com')\n",
    "doc.agent('tracker2.com')\n",
    "doc.hadMember('trackers', 'tracker1.com')\n",
    "doc.hadMember('trackers', 'tracker2.com')\n",
    "doc.wasAssociatedWith('setCookies', 'tracker1.com')\n",
    "doc.wasAssociatedWith('setCookies', 'tracker2.com')\n",
    "doc.entity('1')\n",
    "doc.entity('2')\n",
    "doc.entity('3')\n",
    "doc.wasAttributedTo('1', 'tracker1.com')\n",
    "doc.wasAttributedTo('2', 'tracker1.com')\n",
    "doc.wasAttributedTo('3', 'tracker2.com')\n",
    "doc.hadMember('cookies', '1')\n",
    "doc.hadMember('cookies', '2')\n",
    "doc.hadMember('cookies', '3')\n"
   ]
  },
  {
   "cell_type": "code",
   "execution_count": 8,
   "metadata": {},
   "outputs": [
    {
     "name": "stdout",
     "output_type": "stream",
     "text": [
      "document\n",
      "  default <http://danik.com>\n",
      "  \n",
      "  agent(OpenWPM, [prov:type=\"prov:SoftwareAgent\"])\n",
      "  agent(user)\n",
      "  agent(publisher)\n",
      "  entity(visit, [id=\"1\"])\n",
      "  entity(example.com)\n",
      "  entity(crawl, [id=\"1\", DNT=\"False\"])\n",
      "  entity(Firefox)\n",
      "  activity(performCrawl, -, -)\n",
      "  activity(setCookies, -, -)\n",
      "  activity(visitSite, -, -)\n",
      "  entity(trackers, [prov:type='prov:Collection'])\n",
      "  entity(cookies, [prov:type='prov:Collection'])\n",
      "  actedOnBehalfOf(OpenWPM, user, -)\n",
      "  wasAssociatedWith(performCrawl, OpenWPM, -)\n",
      "  wasGeneratedBy(cookies, setCookies, -)\n",
      "  wasGeneratedBy(visit, visitSite, -)\n",
      "  wasGeneratedBy(crawl, performCrawl, -)\n",
      "  wasDerivedFrom(visit, example.com, visitSite, -, -)\n",
      "  wasStartedBy(visitSite, crawl, performCrawl, -)\n",
      "  wasAttributedTo(example.com, publisher)\n",
      "  used(visitSite, example.com, -)\n",
      "  used(setCookies, example.com, -)\n",
      "  used(performCrawl, Firefox, -)\n",
      "  agent(tracker1.com)\n",
      "  agent(tracker2.com)\n",
      "  hadMember(trackers, tracker1.com)\n",
      "  hadMember(trackers, tracker2.com)\n",
      "  wasAssociatedWith(setCookies, tracker1.com, -)\n",
      "  wasAssociatedWith(setCookies, tracker2.com, -)\n",
      "  entity(1)\n",
      "  entity(2)\n",
      "  entity(3)\n",
      "  wasAttributedTo(1, tracker1.com)\n",
      "  wasAttributedTo(2, tracker1.com)\n",
      "  wasAttributedTo(3, tracker2.com)\n",
      "  hadMember(cookies, 1)\n",
      "  hadMember(cookies, 2)\n",
      "  hadMember(cookies, 3)\n",
      "endDocument\n"
     ]
    }
   ],
   "source": [
    "print(doc.get_provn())"
   ]
  },
  {
   "cell_type": "code",
   "execution_count": 17,
   "metadata": {},
   "outputs": [],
   "source": [
    "dot = prov_to_dot(doc)\n",
    "dot.write_png(path.join(os.getcwd(), 'template.png'))"
   ]
  },
  {
   "cell_type": "code",
   "execution_count": 18,
   "metadata": {},
   "outputs": [],
   "source": [
    "results_fp = \"/Users/Danik/Desktop/KCL/YEAR_3/PRJ/Crawls/Results/\""
   ]
  },
  {
   "cell_type": "code",
   "execution_count": 53,
   "metadata": {},
   "outputs": [],
   "source": [
    "crawl_visits = {}\n",
    "for crawl in sorted(os.listdir(results_fp)):\n",
    "    if 'crawl' in crawl:\n",
    "        crawl_fp = path.join(results_fp, crawl)\n",
    "        crawl_id = crawl.split('crawl')[1]\n",
    "        crawl_visits[int(crawl_id)] = None\n",
    "        for directory in os.listdir(crawl_fp):\n",
    "            if 'json' in directory:\n",
    "                json_fp = path.join(crawl_fp, directory)\n",
    "                visits = []\n",
    "                for visit in sorted(os.listdir(json_fp)):\n",
    "                    visits.append(int(visit.split('visit')[1].split('.')[0]))\n",
    "    \n",
    "                    crawl_visits[int(crawl_id)] = {visit: None for visit in visits}\n",
    "#             crawl_visits[crawl_id] = visits\n",
    "        "
   ]
  },
  {
   "cell_type": "code",
   "execution_count": 59,
   "metadata": {},
   "outputs": [
    {
     "data": {
      "text/plain": [
       "{1: {1: None, 2: {'hi': 'no'}, 3: None},\n",
       " 10: {18: None},\n",
       " 11: {19: None},\n",
       " 12: {20: None},\n",
       " 13: {21: None},\n",
       " 14: {22: None},\n",
       " 2: {4: None, 5: None},\n",
       " 3: {6: None, 7: None},\n",
       " 4: {8: None, 9: None},\n",
       " 5: {10: None},\n",
       " 6: {11: None, 12: None},\n",
       " 7: {13: None, 14: None},\n",
       " 8: {15: None, 16: None},\n",
       " 9: {17: None}}"
      ]
     },
     "execution_count": 59,
     "metadata": {},
     "output_type": "execute_result"
    }
   ],
   "source": [
    "crawl_visits[1][2] = {\"hi\" : \"no\"}\n",
    "crawl_visits"
   ]
  },
  {
   "cell_type": "code",
   "execution_count": 62,
   "metadata": {},
   "outputs": [
    {
     "name": "stdout",
     "output_type": "stream",
     "text": [
      "no\n"
     ]
    }
   ],
   "source": [
    "for visit, js in crawl_visits[1].items():\n",
    "    if visit == 2:\n",
    "        print(js['hi'])"
   ]
  },
  {
   "cell_type": "code",
   "execution_count": null,
   "metadata": {},
   "outputs": [],
   "source": []
  }
 ],
 "metadata": {
  "kernelspec": {
   "display_name": "Python 3",
   "language": "python",
   "name": "python3"
  },
  "language_info": {
   "codemirror_mode": {
    "name": "ipython",
    "version": 3
   },
   "file_extension": ".py",
   "mimetype": "text/x-python",
   "name": "python",
   "nbconvert_exporter": "python",
   "pygments_lexer": "ipython3",
   "version": "3.7.3"
  }
 },
 "nbformat": 4,
 "nbformat_minor": 4
}
