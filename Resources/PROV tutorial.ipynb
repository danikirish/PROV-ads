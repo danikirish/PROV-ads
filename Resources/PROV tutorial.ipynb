{
 "cells": [
  {
   "cell_type": "code",
   "execution_count": 1,
   "metadata": {},
   "outputs": [],
   "source": [
    "from prov.model import ProvDocument"
   ]
  },
  {
   "cell_type": "code",
   "execution_count": 2,
   "metadata": {},
   "outputs": [],
   "source": [
    "d1 = ProvDocument()"
   ]
  },
  {
   "cell_type": "code",
   "execution_count": 3,
   "metadata": {},
   "outputs": [
    {
     "data": {
      "text/plain": [
       "<Namespace: bk {http://www.provbook.org/ns/#}>"
      ]
     },
     "execution_count": 3,
     "metadata": {},
     "output_type": "execute_result"
    }
   ],
   "source": [
    "d1.add_namespace('now', 'http://www.provbook.org/nownews/')\n",
    "d1.add_namespace('nowpeople', 'http://www.provbook.org/nownews/people/')\n",
    "d1.add_namespace('bk', 'http://www.provbook.org/ns/#')"
   ]
  },
  {
   "cell_type": "code",
   "execution_count": 5,
   "metadata": {},
   "outputs": [
    {
     "data": {
      "text/plain": [
       "<ProvAgent: nowpeople:bob>"
      ]
     },
     "execution_count": 5,
     "metadata": {},
     "output_type": "execute_result"
    }
   ],
   "source": [
    "e1 = d1.entity('now:employment-article-v1.html')\n",
    "d1.agent('nowpeople:bob')"
   ]
  },
  {
   "cell_type": "code",
   "execution_count": 6,
   "metadata": {},
   "outputs": [
    {
     "data": {
      "text/plain": [
       "<ProvAttribution: (now:employment-article-v1.html, nowpeople:bob)>"
      ]
     },
     "execution_count": 6,
     "metadata": {},
     "output_type": "execute_result"
    }
   ],
   "source": [
    "d1.wasAttributedTo(e1, 'nowpeople:bob')"
   ]
  },
  {
   "cell_type": "code",
   "execution_count": 7,
   "metadata": {},
   "outputs": [
    {
     "name": "stdout",
     "output_type": "stream",
     "text": [
      "document\n",
      "  prefix now <http://www.provbook.org/nownews/>\n",
      "  prefix nowpeople <http://www.provbook.org/nownews/people/>\n",
      "  prefix bk <http://www.provbook.org/ns/#>\n",
      "  \n",
      "  entity(now:employment-article-v1.html)\n",
      "  entity(now:employment-article-v1.html)\n",
      "  agent(nowpeople:bob)\n",
      "  wasAttributedTo(now:employment-article-v1.html, nowpeople:bob)\n",
      "endDocument\n"
     ]
    }
   ],
   "source": [
    "print(d1.get_provn())"
   ]
  },
  {
   "cell_type": "code",
   "execution_count": 8,
   "metadata": {},
   "outputs": [
    {
     "data": {
      "text/plain": [
       "<ProvDerivation: (now:employment-article-v1.html, govftp:oesm11st.zip)>"
      ]
     },
     "execution_count": 8,
     "metadata": {},
     "output_type": "execute_result"
    }
   ],
   "source": [
    "d1.add_namespace('govftp', 'ftp://ftp.bls.gov/pub/special.requests/oes/')\n",
    "d1.add_namespace('void', 'http://vocab.deri.ie/void#')\n",
    "\n",
    "# 'now:employment-article-v1.html' was derived from at dataset at govftp\n",
    "d1.entity('govftp:oesm11st.zip', {'prov:label': 'employment-stats-2011', 'prov:type': 'void:Dataset'})\n",
    "d1.wasDerivedFrom('now:employment-article-v1.html', 'govftp:oesm11st.zip')"
   ]
  },
  {
   "cell_type": "code",
   "execution_count": 9,
   "metadata": {},
   "outputs": [
    {
     "name": "stdout",
     "output_type": "stream",
     "text": [
      "document\n",
      "  prefix now <http://www.provbook.org/nownews/>\n",
      "  prefix nowpeople <http://www.provbook.org/nownews/people/>\n",
      "  prefix bk <http://www.provbook.org/ns/#>\n",
      "  prefix govftp <ftp://ftp.bls.gov/pub/special.requests/oes/>\n",
      "  prefix void <http://vocab.deri.ie/void#>\n",
      "  \n",
      "  entity(now:employment-article-v1.html)\n",
      "  entity(now:employment-article-v1.html)\n",
      "  agent(nowpeople:bob)\n",
      "  wasAttributedTo(now:employment-article-v1.html, nowpeople:bob)\n",
      "  entity(govftp:oesm11st.zip, [prov:label=\"employment-stats-2011\", prov:type=\"void:Dataset\"])\n",
      "  wasDerivedFrom(now:employment-article-v1.html, govftp:oesm11st.zip, -, -, -)\n",
      "endDocument\n"
     ]
    }
   ],
   "source": [
    "print(d1.get_provn())\n"
   ]
  },
  {
   "cell_type": "code",
   "execution_count": 10,
   "metadata": {},
   "outputs": [
    {
     "data": {
      "text/plain": [
       "<ProvActivity: is:writeArticle>"
      ]
     },
     "execution_count": 10,
     "metadata": {},
     "output_type": "execute_result"
    }
   ],
   "source": [
    "d1.add_namespace('is', 'http://www.provbook.org/nownews/is/#')\n",
    "d1.activity('is:writeArticle')"
   ]
  },
  {
   "cell_type": "code",
   "execution_count": 11,
   "metadata": {},
   "outputs": [
    {
     "data": {
      "text/plain": [
       "<ProvGeneration: (now:employment-article-v1.html, is:writeArticle)>"
      ]
     },
     "execution_count": 11,
     "metadata": {},
     "output_type": "execute_result"
    }
   ],
   "source": [
    "d1.used('is:writeArticle', 'govftp:oesm11st.zip')\n",
    "d1.wasGeneratedBy('now:employment-article-v1.html', 'is:writeArticle')"
   ]
  },
  {
   "cell_type": "code",
   "execution_count": 13,
   "metadata": {},
   "outputs": [],
   "source": [
    "from prov.dot import prov_to_dot"
   ]
  },
  {
   "cell_type": "code",
   "execution_count": 14,
   "metadata": {},
   "outputs": [],
   "source": [
    "dot = prov_to_dot(d1)\n",
    "dot.write_png('article-prov.png')\n"
   ]
  },
  {
   "cell_type": "code",
   "execution_count": null,
   "metadata": {},
   "outputs": [],
   "source": []
  }
 ],
 "metadata": {
  "kernelspec": {
   "display_name": "Python 3",
   "language": "python",
   "name": "python3"
  },
  "language_info": {
   "codemirror_mode": {
    "name": "ipython",
    "version": 3
   },
   "file_extension": ".py",
   "mimetype": "text/x-python",
   "name": "python",
   "nbconvert_exporter": "python",
   "pygments_lexer": "ipython3",
   "version": "3.7.3"
  }
 },
 "nbformat": 4,
 "nbformat_minor": 2
}
